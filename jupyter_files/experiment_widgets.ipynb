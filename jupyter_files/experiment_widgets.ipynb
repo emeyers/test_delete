{
 "cells": [
  {
   "cell_type": "markdown",
   "id": "3aa04e08-e572-4b3c-9b1a-d4c70f408702",
   "metadata": {},
   "source": [
    "# Experimenting with widgets\n"
   ]
  },
  {
   "cell_type": "code",
   "execution_count": 8,
   "id": "1996a5d6-bc8b-4b79-90d1-0bea8b13f3e3",
   "metadata": {},
   "outputs": [],
   "source": [
    "import numpy as np\n",
    "import matplotlib.pyplot as plt\n",
    "import seaborn as sns\n",
    "\n",
    "import ipywidgets as widgets\n",
    "from IPython.display import display\n"
   ]
  },
  {
   "cell_type": "markdown",
   "id": "af84b31c-3e4a-433f-83c8-9764591fb79e",
   "metadata": {},
   "source": [
    "## Demo 1\n",
    "\n",
    "From: https://saturncloud.io/blog/understanding-jupyter-notebook-widgets/"
   ]
  },
  {
   "cell_type": "code",
   "execution_count": 24,
   "id": "a866fada-c3d3-417c-b494-a9f7b8ff7750",
   "metadata": {},
   "outputs": [
    {
     "data": {
      "application/vnd.jupyter.widget-view+json": {
       "model_id": "432a770d624440c098341d88c84a300b",
       "version_major": 2,
       "version_minor": 0
      },
      "text/plain": [
       "interactive(children=(Text(value='World', description='name'), IntSlider(value=5, description='count', max=15,…"
      ]
     },
     "metadata": {},
     "output_type": "display_data"
    },
    {
     "name": "stdout",
     "output_type": "stream",
     "text": [
      "Hello, World!\n",
      "Hello, World!\n",
      "Hello, World!\n",
      "Hello, World!\n",
      "Hello, World!\n"
     ]
    }
   ],
   "source": [
    "from ipywidgets import interact\n",
    "\n",
    "@interact\n",
    "def greet(name=\"World\", count=5):\n",
    "    for _ in range(count):\n",
    "        print(f\"Hello, {name}!\")\n",
    "\n",
    "greet()"
   ]
  },
  {
   "cell_type": "markdown",
   "id": "e5d83404-8e62-4c54-9c64-ed1b6910d671",
   "metadata": {},
   "source": [
    "## Demo 2"
   ]
  },
  {
   "cell_type": "code",
   "execution_count": 1,
   "id": "9dacd7be-782e-4249-b55c-5f5832b9e76d",
   "metadata": {},
   "outputs": [
    {
     "data": {
      "application/vnd.jupyter.widget-view+json": {
       "model_id": "876334bf6b20403e8d2b6bdbe7764ad7",
       "version_major": 2,
       "version_minor": 0
      },
      "text/plain": [
       "Button(description='Click me!', style=ButtonStyle())"
      ]
     },
     "metadata": {},
     "output_type": "display_data"
    },
    {
     "data": {
      "application/vnd.jupyter.widget-view+json": {
       "model_id": "ec04e395d8134ff6bd761a3802f8665a",
       "version_major": 2,
       "version_minor": 0
      },
      "text/plain": [
       "IntSlider(value=5, max=10)"
      ]
     },
     "metadata": {},
     "output_type": "display_data"
    }
   ],
   "source": [
    "\n",
    "\n",
    "# Create a button\n",
    "button = widgets.Button(description=\"Click me!\")\n",
    "\n",
    "# Create a slider\n",
    "slider = widgets.IntSlider(value=5, min=0, max=10, step=1)\n",
    "\n",
    "# Display the widgets\n",
    "display(button, slider)\n",
    "\n",
    "# Define a function to handle button clicks\n",
    "def on_button_click(b):\n",
    "    print(\"Button clicked!\")\n",
    "\n",
    "# Attach the function to the button's on_click event\n",
    "button.on_click(on_button_click)\n",
    "\n",
    "\n"
   ]
  },
  {
   "cell_type": "code",
   "execution_count": 20,
   "id": "83525f65-bcc1-457f-aeba-2e81ba4e5ae0",
   "metadata": {},
   "outputs": [
    {
     "data": {
      "text/plain": [
       "1"
      ]
     },
     "execution_count": 20,
     "metadata": {},
     "output_type": "execute_result"
    }
   ],
   "source": [
    "slider.value"
   ]
  },
  {
   "cell_type": "code",
   "execution_count": 7,
   "id": "4858257b-9262-4598-858e-77445136c913",
   "metadata": {},
   "outputs": [
    {
     "data": {
      "application/vnd.jupyter.widget-view+json": {
       "model_id": "e7ff7b036ff24a2fa27d3f0d2baaca7c",
       "version_major": 2,
       "version_minor": 0
      },
      "text/plain": [
       "interactive(children=(FloatSlider(value=1.0, description='freq', max=3.0, min=-1.0), Dropdown(description='col…"
      ]
     },
     "metadata": {},
     "output_type": "display_data"
    }
   ],
   "source": [
    "# interact manual adds a button that needs to be pressed for the figure to update\n",
    "\n",
    "@widgets.interact_manual(color=['blue', 'red', 'green'], lw=(1., 10.))\n",
    "def plot(freq=1., color='blue', lw=2, grid=True):\n",
    "    t = np.linspace(-1., +1., 1000)\n",
    "    fig, ax = plt.subplots(1, 1, figsize=(8, 6))\n",
    "    ax.plot(t, np.sin(2 * np.pi * freq * t),\n",
    "            lw=lw, color=color)\n",
    "    ax.grid(grid)"
   ]
  },
  {
   "cell_type": "code",
   "execution_count": 21,
   "id": "ba28cf43-52da-4f47-ac87-e88de7cee064",
   "metadata": {},
   "outputs": [
    {
     "data": {
      "application/vnd.jupyter.widget-view+json": {
       "model_id": "31edd14b8d724fabb47db4b83ab6e92d",
       "version_major": 2,
       "version_minor": 0
      },
      "text/plain": [
       "interactive(children=(FloatSlider(value=1.0, description='freq', max=3.0, min=-1.0), Dropdown(description='col…"
      ]
     },
     "metadata": {},
     "output_type": "display_data"
    }
   ],
   "source": [
    "@widgets.interact(color=['blue', 'red', 'green'], lw=(1., 10.))\n",
    "def plot(freq=1., color='blue', lw=2, grid=True):\n",
    "    t = np.linspace(-1., +1., 1000)\n",
    "    fig, ax = plt.subplots(1, 1, figsize=(8, 6))\n",
    "    ax.plot(t, np.sin(2 * np.pi * freq * t),\n",
    "            lw=lw, color=color)\n",
    "    ax.grid(grid)"
   ]
  },
  {
   "cell_type": "code",
   "execution_count": 16,
   "id": "8ae8ff0a-852b-43d3-a71b-c86fa0f4e875",
   "metadata": {},
   "outputs": [],
   "source": [
    "# example from: https://www.youtube.com/watch?v=wb6k_T4rKBQ&t=3s\n",
    "\n",
    "cars = sns.load_dataset(\"mpg\")\n",
    "\n",
    "def bandwidth_widget(bw = 1):\n",
    "    sns.kdeplot(cars.horsepower, lw=3, fill=True, bw_adjust=bw)\n",
    "    plt.xlim(-30, 300)\n",
    "    plt.ylim(0, .03);\n"
   ]
  },
  {
   "cell_type": "code",
   "execution_count": 20,
   "id": "a1e31361-279e-4c94-862e-4cea9a4d4049",
   "metadata": {},
   "outputs": [
    {
     "data": {
      "application/vnd.jupyter.widget-view+json": {
       "model_id": "6ef0b66b2a35444b8935c2faa2a976af",
       "version_major": 2,
       "version_minor": 0
      },
      "text/plain": [
       "interactive(children=(FloatSlider(value=1.0, description='bw', max=3.0, min=0.1), Output()), _dom_classes=('wi…"
      ]
     },
     "metadata": {},
     "output_type": "display_data"
    }
   ],
   "source": [
    "widgets.interact(bandwidth_widget, bw = (.1, 3));"
   ]
  },
  {
   "cell_type": "code",
   "execution_count": 18,
   "id": "16a3db4a-6ecc-4190-95f4-4cd33f1a8c2d",
   "metadata": {},
   "outputs": [
    {
     "data": {
      "application/vnd.jupyter.widget-view+json": {
       "model_id": "866ff899175343db97b887bf45dfe6df",
       "version_major": 2,
       "version_minor": 0
      },
      "text/plain": [
       "interactive(children=(FloatSlider(value=1.0, description='bw', max=3.0, min=0.1), Output()), _dom_classes=('wi…"
      ]
     },
     "metadata": {},
     "output_type": "display_data"
    }
   ],
   "source": [
    "# alternatively\n",
    "\n",
    "@widgets.interact(bw = (.1, 3))\n",
    "def bandwidth_widget(bw = 1):\n",
    "    sns.kdeplot(cars.horsepower, lw=3, fill=True, bw_adjust=bw)\n",
    "    plt.xlim(-30, 300)\n",
    "    plt.ylim(0, .03);\n",
    "\n"
   ]
  },
  {
   "cell_type": "code",
   "execution_count": null,
   "id": "feae60dd-81bf-4078-ad44-8e606419d996",
   "metadata": {},
   "outputs": [],
   "source": []
  }
 ],
 "metadata": {
  "kernelspec": {
   "display_name": "Python [conda env:ydata123_env_2024a] *",
   "language": "python",
   "name": "conda-env-ydata123_env_2024a-py"
  },
  "language_info": {
   "codemirror_mode": {
    "name": "ipython",
    "version": 3
   },
   "file_extension": ".py",
   "mimetype": "text/x-python",
   "name": "python",
   "nbconvert_exporter": "python",
   "pygments_lexer": "ipython3",
   "version": "3.12.4"
  }
 },
 "nbformat": 4,
 "nbformat_minor": 5
}
